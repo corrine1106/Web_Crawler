{
 "cells": [
  {
   "cell_type": "code",
   "execution_count": 1,
   "metadata": {},
   "outputs": [],
   "source": [
    "#出現406錯誤\n",
    "\n",
    "import requests,bs4"
   ]
  },
  {
   "cell_type": "code",
   "execution_count": 2,
   "metadata": {},
   "outputs": [
    {
     "name": "stdout",
     "output_type": "stream",
     "text": [
      "<Response [406]>\n"
     ]
    }
   ],
   "source": [
    "htmlfile = requests.get(\"https://aaa.24ht.com.tw/\")\n",
    "print(htmlfile)"
   ]
  },
  {
   "cell_type": "code",
   "execution_count": 4,
   "metadata": {},
   "outputs": [
    {
     "name": "stdout",
     "output_type": "stream",
     "text": [
      "<Response [200]>\n"
     ]
    }
   ],
   "source": [
    "#改用偽裝成網頁的方式\n",
    "#找F12>網路>（任選 只要有）user-agent\n",
    "header = {'User-Agent':'Mozilla/5.0 (Macintosh; Intel Mac OS X 10_15_7) AppleWebKit/605.1.15 (KHTML, like Gecko) Version/14.0 Safari/605.1.15'}\n",
    "htmlfile = requests.get(\"https://aaa.24ht.com.tw/\", headers=header)\n",
    "print(htmlfile)"
   ]
  },
  {
   "cell_type": "code",
   "execution_count": 13,
   "metadata": {},
   "outputs": [],
   "source": [
    "#下載圖片\n",
    "url = \"https://csie.cyut.edu.tw/\"\n",
    "htmlfile = requests.get(url)\n",
    "#定義存檔目錄\n",
    "destDir = \"pic_output\"\n",
    "# 建立新路徑 如果沒有的話\n",
    "if os.path.exists(destDir) == False:\n",
    "    os.mkdir(destDir)\n",
    "\n",
    "objSoup = bs4.BeautifulSoup(htmlfile.text, \"lxml\")\n",
    "imgTags = objSoup.select(\"img\")\n",
    "\n",
    "if imgTags:\n",
    "    for img in imgTags:\n",
    "        imgUrl = img.get(\"src\")\n",
    "        fullUrl = url + imgUrl\n",
    "\n",
    "        picture = requests.get(fullUrl)\n",
    "        \n",
    "        picFile = open(os.path.join(destDir, os.path.basename(imgUrl)), 'wb')\n",
    "        for diskStorage in picture.iter_content(10240):\n",
    "            picFile.write(diskStorage)\n",
    "        picFile.close()\n",
    "        break"
   ]
  },
  {
   "cell_type": "code",
   "execution_count": null,
   "metadata": {},
   "outputs": [],
   "source": []
  }
 ],
 "metadata": {
  "kernelspec": {
   "display_name": "Python 3",
   "language": "python",
   "name": "python3"
  },
  "language_info": {
   "codemirror_mode": {
    "name": "ipython",
    "version": 3
   },
   "file_extension": ".py",
   "mimetype": "text/x-python",
   "name": "python",
   "nbconvert_exporter": "python",
   "pygments_lexer": "ipython3",
   "version": "3.7.9"
  },
  "varInspector": {
   "cols": {
    "lenName": 16,
    "lenType": 16,
    "lenVar": 40
   },
   "kernels_config": {
    "python": {
     "delete_cmd_postfix": "",
     "delete_cmd_prefix": "del ",
     "library": "var_list.py",
     "varRefreshCmd": "print(var_dic_list())"
    },
    "r": {
     "delete_cmd_postfix": ") ",
     "delete_cmd_prefix": "rm(",
     "library": "var_list.r",
     "varRefreshCmd": "cat(var_dic_list()) "
    }
   },
   "types_to_exclude": [
    "module",
    "function",
    "builtin_function_or_method",
    "instance",
    "_Feature"
   ],
   "window_display": false
  }
 },
 "nbformat": 4,
 "nbformat_minor": 4
}
